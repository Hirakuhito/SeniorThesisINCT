{
 "cells": [
  {
   "cell_type": "code",
   "execution_count": null,
   "id": "d2d245c6",
   "metadata": {},
   "outputs": [],
   "source": [
    "import mujoco\n",
    "from PIL import Image"
   ]
  }
 ],
 "metadata": {
  "kernelspec": {
   "display_name": "st_inct",
   "language": "python",
   "name": "python3"
  },
  "language_info": {
   "name": "python",
   "version": "3.13.5"
  }
 },
 "nbformat": 4,
 "nbformat_minor": 5
}
