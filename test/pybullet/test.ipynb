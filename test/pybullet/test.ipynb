{
 "cells": [
  {
   "cell_type": "code",
   "execution_count": 1,
   "id": "63e2d242",
   "metadata": {},
   "outputs": [
    {
     "name": "stderr",
     "output_type": "stream",
     "text": [
      "pybullet build time: May 17 2025 21:12:59\n"
     ]
    }
   ],
   "source": [
    "import pybullet as p\n",
    "import pybullet_data as pd"
   ]
  },
  {
   "cell_type": "code",
   "execution_count": 2,
   "id": "35893bbd",
   "metadata": {},
   "outputs": [
    {
     "name": "stdout",
     "output_type": "stream",
     "text": [
      "startThreads creating 1 threads.\n",
      "starting thread 0\n",
      "started thread 0 \n",
      "argc=2\n",
      "argv[0] = --unused\n",
      "argv[1] = --start_demo_name=Physics Server\n",
      "ExampleBrowserThreadFunc started\n",
      "X11 functions dynamically loaded using dlopen/dlsym OK!\n",
      "X11 functions dynamically loaded using dlopen/dlsym OK!\n",
      "Creating context\n",
      "Created GL 3.3 context\n",
      "Direct GLX rendering context obtained\n",
      "Making context current\n",
      "GL_VENDOR=Microsoft Corporation\n",
      "GL_RENDERER=D3D12 (NVIDIA GeForce RTX 4070 Ti)\n",
      "GL_VERSION=4.6 (Core Profile) Mesa 25.2.4 - kisak-mesa PPA\n",
      "GL_SHADING_LANGUAGE_VERSION=4.60\n",
      "pthread_getconcurrency()=0\n",
      "Version = 4.6 (Core Profile) Mesa 25.2.4 - kisak-mesa PPA\n",
      "Vendor = Microsoft Corporation\n",
      "Renderer = D3D12 (NVIDIA GeForce RTX 4070 Ti)\n",
      "b3Printf: Selected demo: Physics Server\n",
      "startThreads creating 1 threads.\n",
      "starting thread 0\n",
      "started thread 0 \n",
      "MotionThreadFunc thread started\n"
     ]
    }
   ],
   "source": [
    "engine_id = p.connect(p.GUI)\n",
    "p.setAdditionalSearchPath(pd.getDataPath())"
   ]
  },
  {
   "cell_type": "code",
   "execution_count": null,
   "id": "f4132dc4",
   "metadata": {},
   "outputs": [
    {
     "name": "stdout",
     "output_type": "stream",
     "text": [
      "ven = Microsoft Corporation\n",
      "ven = Microsoft Corporation\n",
      "b3Printf: b3Warning[examples/Importers/ImportURDFDemo/BulletUrdfImporter.cpp,152]:\n",
      "\n",
      "b3Printf: URDF file 'sphere.urdf' not found\n",
      "\n"
     ]
    },
    {
     "ename": "error",
     "evalue": "Cannot load URDF file.",
     "output_type": "error",
     "traceback": [
      "\u001b[31m---------------------------------------------------------------------------\u001b[39m",
      "\u001b[31merror\u001b[39m                                     Traceback (most recent call last)",
      "\u001b[36mCell\u001b[39m\u001b[36m \u001b[39m\u001b[32mIn[3]\u001b[39m\u001b[32m, line 8\u001b[39m\n\u001b[32m      5\u001b[39m p.setGravity(\u001b[32m0\u001b[39m, \u001b[32m0\u001b[39m, -\u001b[32m9.8\u001b[39m)\n\u001b[32m      7\u001b[39m plane = p.loadURDF(\u001b[33m'\u001b[39m\u001b[33mplane.urdf\u001b[39m\u001b[33m'\u001b[39m)\n\u001b[32m----> \u001b[39m\u001b[32m8\u001b[39m sphere = \u001b[43mp\u001b[49m\u001b[43m.\u001b[49m\u001b[43mloadURDF\u001b[49m\u001b[43m(\u001b[49m\u001b[33;43m'\u001b[39;49m\u001b[33;43msphere.urdf\u001b[39;49m\u001b[33;43m'\u001b[39;49m\u001b[43m,\u001b[49m\u001b[43m \u001b[49m\u001b[43mstart_pos\u001b[49m\u001b[43m)\u001b[49m\n",
      "\u001b[31merror\u001b[39m: Cannot load URDF file."
     ]
    },
    {
     "ename": "",
     "evalue": "",
     "output_type": "error",
     "traceback": [
      "\u001b[1;31m現在のセルまたは前のセルでコードを実行中に、カーネル (Kernel) がクラッシュしました。\n",
      "\u001b[1;31mエラーの原因を特定するには、セル内のコードを確認してください。\n",
      "\u001b[1;31m詳細については<a href='https://aka.ms/vscodeJupyterKernelCrash'>こちら</a>をクリックします。\n",
      "\u001b[1;31m詳細については、Jupyter <a href='command:jupyter.viewOutput'>ログ</a> を参照してください。"
     ]
    }
   ],
   "source": [
    "timestep = 1. / 240.\n",
    "start_pos = [0, 0, 3]\n",
    "\n",
    "p.setTimeStep(timestep, engine_id)\n",
    "p.setGravity(0, 0, -9.8)\n",
    "\n",
    "plane = p.loadURDF('plane.urdf')\n",
    "sphere = p.loadURDF('sphere.urdf', start_pos)\n"
   ]
  }
 ],
 "metadata": {
  "kernelspec": {
   "display_name": "st_inct",
   "language": "python",
   "name": "python3"
  },
  "language_info": {
   "codemirror_mode": {
    "name": "ipython",
    "version": 3
   },
   "file_extension": ".py",
   "mimetype": "text/x-python",
   "name": "python",
   "nbconvert_exporter": "python",
   "pygments_lexer": "ipython3",
   "version": "3.11.13"
  }
 },
 "nbformat": 4,
 "nbformat_minor": 5
}
